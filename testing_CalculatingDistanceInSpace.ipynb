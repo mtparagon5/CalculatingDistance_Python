{
 "cells": [
  {
   "cell_type": "code",
   "execution_count": 1,
   "metadata": {},
   "outputs": [
    {
     "name": "stdout",
     "output_type": "stream",
     "text": [
      "This program will calculate the distance between two points in space given their respective X, Y, and Z coordinates\n",
      "(Hint: If your two points are 2-dimensional, your Z-coordinates will be 0)\n",
      "Enter X, Y, and Z coordinates for both points\n",
      "(Separate your values with a comma): 2, 3, a\n",
      "-------------------------------------------------------------------------\n",
      "The coordinates should only contain numbers and be separated with a comma\n",
      "\n",
      "Enter X, Y, and Z coordinates for both points\n",
      "(Separate your values with a comma): 2, 3, 4.5, 6.1, 8.456, 10.231\n",
      "Point 1: [2.0, 3.0, 4.5] \n",
      "Point 2: [6.1, 8.456, 10.231]\n",
      "The distance between points (X1, Y1, Z1) and (X2, Y2, Z2) = 8.912\n"
     ]
    }
   ],
   "source": [
    "from CalculatingDistanceInSpace import main\n",
    "\n",
    "main()"
   ]
  },
  {
   "cell_type": "code",
   "execution_count": null,
   "metadata": {},
   "outputs": [],
   "source": []
  }
 ],
 "metadata": {
  "kernelspec": {
   "display_name": "Python 3",
   "language": "python",
   "name": "python3"
  },
  "language_info": {
   "codemirror_mode": {
    "name": "ipython",
    "version": 3
   },
   "file_extension": ".py",
   "mimetype": "text/x-python",
   "name": "python",
   "nbconvert_exporter": "python",
   "pygments_lexer": "ipython3",
   "version": "3.6.3"
  }
 },
 "nbformat": 4,
 "nbformat_minor": 2
}
