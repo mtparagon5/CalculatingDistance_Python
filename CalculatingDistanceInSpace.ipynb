{
 "cells": [
  {
   "cell_type": "markdown",
   "metadata": {},
   "source": [
    "# Calculating The Distance Between Two Points In Space (python)"
   ]
  },
  {
   "cell_type": "markdown",
   "metadata": {},
   "source": [
    "created by Matthew Thomas\n"
   ]
  },
  {
   "cell_type": "markdown",
   "metadata": {},
   "source": [
    "12/4/2017"
   ]
  },
  {
   "cell_type": "code",
   "execution_count": 9,
   "metadata": {},
   "outputs": [],
   "source": [
    "# first we will create an introduction so the user will understand the purpose of the program \n",
    "def intro():\n",
    "    introduction = print(\"This program will calculate the distance between two points \" +\n",
    "                    \"in space given their respective X, Y, and Z coordinates\" +\n",
    "                    \"\\n\" + \"(Hint: If your two points are 2-dimensional, your Z-coordinates will be 0)\")\n",
    "    return introduction\n"
   ]
  },
  {
   "cell_type": "code",
   "execution_count": 10,
   "metadata": {},
   "outputs": [],
   "source": [
    "# in order to calculate the distance between two points\n",
    "# we'll need to know the coordinates of the two points\n",
    "# create a function to get user defined coordinates\n",
    "\n",
    "# one way to gather the input is to ask for it indvidually\n",
    "def get_coordinates():\n",
    "    label_coordinates = [\"X1\", \"Y1\", \"Z1\", \"X2\", \"Y2\", \"Z2\"]\n",
    "    given_coordinates = []\n",
    "  \n",
    "    print(\"Please enter the coordinates you have: \\n\" +\n",
    "            \"(hint: your Z coordinates may be 0)\\n\")\n",
    "    while True:\n",
    "        try:\n",
    "            for label in label_coordinates:\n",
    "                coordinate_value = int(input(label + \" value: \"))\n",
    "                given_coordinates.append(coordinate_value)\n",
    "                \n",
    "        except ValueError:\n",
    "            print(\"Please enter a valid integer\")\n",
    "            #continue will allow the loop to kepp going\n",
    "            continue\n",
    "            \n",
    "        # once we get a valid input, we for the function\n",
    "        # to return it\n",
    "        else:\n",
    "            return given_coordinates"
   ]
  },
  {
   "cell_type": "code",
   "execution_count": 11,
   "metadata": {},
   "outputs": [],
   "source": [
    "# In a simpler way, though, we can use the map function to gather the information all at once\n",
    "# we will still use try/except to try and account for bad input\n",
    "def get_coordinates():\n",
    "    while True:\n",
    "        try:\n",
    "            (x1, y1, z1, x2, y2, z2, *other ) = map(float, input(\"Enter X, Y, and Z coordinates for both points\" +\n",
    "                                                                 \"\\n(Leave a space between each value): \").split(\",\"))\n",
    "            print(\"Point 1: [{}, {}, {}] \\nPoint 2: [{}, {}, {}]\".format(x1, y1, z1, x2, y2, z2))\n",
    "\n",
    "            if other:\n",
    "                print ('you entered too many coordinates')\n",
    "                print()\n",
    "                print(other)\n",
    "        except ValueError:\n",
    "            print(\"The coordinates should only contain numbers and be separated with a comma\")\n",
    "        else:\n",
    "            return x1, y1, z1, x2, y2, z2\n"
   ]
  },
  {
   "cell_type": "code",
   "execution_count": 12,
   "metadata": {},
   "outputs": [],
   "source": [
    "# next we'll add our own square root function\n",
    "def sqrt(x):\n",
    "    square_root = x**(1/2)\n",
    "    return square_root"
   ]
  },
  {
   "cell_type": "code",
   "execution_count": 13,
   "metadata": {},
   "outputs": [],
   "source": [
    "# create a function to calculate distance using the coordinates provided by the user\n",
    "def calculate_distance(given_coordinates):\n",
    "    coordinates = []\n",
    "    \n",
    "    for coordinate in given_coordinates:\n",
    "        coordinates.append(coordinate)\n",
    "        \n",
    "    diff_Xs = abs(coordinates[0] - coordinates[3]);\n",
    "    diff_Ys = abs(coordinates[1] - coordinates[4]);\n",
    "    diff_Zs = abs(coordinates[2] - coordinates[5]);\n",
    "    \n",
    "    distance = sqrt((diff_Xs**2) + (diff_Ys**2) + (diff_Zs**2));\n",
    "    return round(distance, 3);"
   ]
  },
  {
   "cell_type": "code",
   "execution_count": 14,
   "metadata": {},
   "outputs": [],
   "source": [
    "# create a function to print the calculated distance between the two points\n",
    "def display_distance(calculated_distance):\n",
    "    print(\"The distance between points (X1, Y1, Z1) and (X2, Y2, Z2) = \" + str(calculated_distance))"
   ]
  },
  {
   "cell_type": "code",
   "execution_count": 15,
   "metadata": {},
   "outputs": [],
   "source": [
    "def main():\n",
    "    #print the introduction\n",
    "    intro()\n",
    "    #display_distance(calculate_distance(get_coordinates()))\n",
    "    coordinate_values = get_coordinates()\n",
    "    #print(given_coordinates)\n",
    "    calculated_distance = calculate_distance(coordinate_values)\n",
    "    display_distance(calculated_distance)"
   ]
  },
  {
   "cell_type": "code",
   "execution_count": 16,
   "metadata": {},
   "outputs": [
    {
     "name": "stdout",
     "output_type": "stream",
     "text": [
      "This program will calculate the distance between two points in space given their respective X, Y, and Z coordinates\n",
      "(Hint: If your two points are 2-dimensional, your Z-coordinates will be 0)\n",
      "Enter X, Y, and Z coordinates for both points\n",
      "(Leave a space between each value): 2, 3, 1, 2.5, 7, 4\n",
      "Point 1: [2.0, 3.0, 1.0] \n",
      "Point 2: [2.5, 7.0, 4.0]\n",
      "The distance between points (X1, Y1, Z1) and (X2, Y2, Z2) = 5.025\n"
     ]
    }
   ],
   "source": [
    "main()"
   ]
  },
  {
   "cell_type": "code",
   "execution_count": null,
   "metadata": {},
   "outputs": [],
   "source": []
  }
 ],
 "metadata": {
  "kernelspec": {
   "display_name": "Python 3",
   "language": "python",
   "name": "python3"
  },
  "language_info": {
   "codemirror_mode": {
    "name": "ipython",
    "version": 3
   },
   "file_extension": ".py",
   "mimetype": "text/x-python",
   "name": "python",
   "nbconvert_exporter": "python",
   "pygments_lexer": "ipython3",
   "version": "3.6.3"
  }
 },
 "nbformat": 4,
 "nbformat_minor": 2
}
